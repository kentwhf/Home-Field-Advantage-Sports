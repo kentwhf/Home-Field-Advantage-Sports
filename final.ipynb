{
 "cells": [
  {
   "cell_type": "code",
   "execution_count": 1,
   "id": "afaa3281",
   "metadata": {},
   "outputs": [],
   "source": [
    "import pandas as pd\n",
    "import matplotlib.pyplot as plt"
   ]
  },
  {
   "cell_type": "code",
   "execution_count": 2,
   "id": "dddffb4e",
   "metadata": {},
   "outputs": [],
   "source": [
    "game_df = pd.read_csv('game.csv')\n",
    "game_info_df = pd.read_csv('game_info.csv')"
   ]
  },
  {
   "cell_type": "code",
   "execution_count": 3,
   "id": "e0ff285a",
   "metadata": {},
   "outputs": [],
   "source": [
    "game_merge_df = pd.merge(game_info_df, game_df, on='game_id', how='left')\n",
    "game_merge_df.drop('game_date_y', axis=1, inplace=True)\n",
    "game_merge_df.rename(columns={'game_date_x': 'game_date'}, inplace=True)"
   ]
  },
  {
   "cell_type": "code",
   "execution_count": 4,
   "id": "50c56b53",
   "metadata": {},
   "outputs": [],
   "source": [
    "game_merge_df = game_merge_df[game_merge_df['season_id'] >= 22001]"
   ]
  },
  {
   "cell_type": "code",
   "execution_count": 5,
   "id": "f7a4f904",
   "metadata": {},
   "outputs": [
    {
     "data": {
      "text/html": [
       "<div>\n",
       "<style scoped>\n",
       "    .dataframe tbody tr th:only-of-type {\n",
       "        vertical-align: middle;\n",
       "    }\n",
       "\n",
       "    .dataframe tbody tr th {\n",
       "        vertical-align: top;\n",
       "    }\n",
       "\n",
       "    .dataframe thead th {\n",
       "        text-align: right;\n",
       "    }\n",
       "</style>\n",
       "<table border=\"1\" class=\"dataframe\">\n",
       "  <thead>\n",
       "    <tr style=\"text-align: right;\">\n",
       "      <th></th>\n",
       "      <th>game_id</th>\n",
       "      <th>game_date</th>\n",
       "      <th>attendance</th>\n",
       "      <th>game_time</th>\n",
       "      <th>season_id</th>\n",
       "      <th>team_id_home</th>\n",
       "      <th>team_abbreviation_home</th>\n",
       "      <th>team_name_home</th>\n",
       "      <th>matchup_home</th>\n",
       "      <th>wl_home</th>\n",
       "      <th>...</th>\n",
       "      <th>dreb_away</th>\n",
       "      <th>reb_away</th>\n",
       "      <th>ast_away</th>\n",
       "      <th>stl_away</th>\n",
       "      <th>blk_away</th>\n",
       "      <th>tov_away</th>\n",
       "      <th>pf_away</th>\n",
       "      <th>pts_away</th>\n",
       "      <th>plus_minus_away</th>\n",
       "      <th>video_available_away</th>\n",
       "    </tr>\n",
       "  </thead>\n",
       "  <tbody>\n",
       "    <tr>\n",
       "      <th>36369</th>\n",
       "      <td>20100005</td>\n",
       "      <td>2001-10-30 00:00:00</td>\n",
       "      <td>18697.0</td>\n",
       "      <td>2:08</td>\n",
       "      <td>22001</td>\n",
       "      <td>1610612750</td>\n",
       "      <td>MIN</td>\n",
       "      <td>Minnesota Timberwolves</td>\n",
       "      <td>MIN vs. PHI</td>\n",
       "      <td>W</td>\n",
       "      <td>...</td>\n",
       "      <td>26.0</td>\n",
       "      <td>41.0</td>\n",
       "      <td>16.0</td>\n",
       "      <td>4.0</td>\n",
       "      <td>6.0</td>\n",
       "      <td>21.0</td>\n",
       "      <td>20.0</td>\n",
       "      <td>74</td>\n",
       "      <td>-9</td>\n",
       "      <td>0</td>\n",
       "    </tr>\n",
       "    <tr>\n",
       "      <th>36370</th>\n",
       "      <td>20100012</td>\n",
       "      <td>2001-10-30 00:00:00</td>\n",
       "      <td>18997.0</td>\n",
       "      <td>2:30</td>\n",
       "      <td>22001</td>\n",
       "      <td>1610612747</td>\n",
       "      <td>LAL</td>\n",
       "      <td>Los Angeles Lakers</td>\n",
       "      <td>LAL vs. POR</td>\n",
       "      <td>W</td>\n",
       "      <td>...</td>\n",
       "      <td>37.0</td>\n",
       "      <td>42.0</td>\n",
       "      <td>17.0</td>\n",
       "      <td>10.0</td>\n",
       "      <td>7.0</td>\n",
       "      <td>15.0</td>\n",
       "      <td>28.0</td>\n",
       "      <td>87</td>\n",
       "      <td>-11</td>\n",
       "      <td>0</td>\n",
       "    </tr>\n",
       "    <tr>\n",
       "      <th>36371</th>\n",
       "      <td>20100004</td>\n",
       "      <td>2001-10-30 00:00:00</td>\n",
       "      <td>16088.0</td>\n",
       "      <td>2:26</td>\n",
       "      <td>22001</td>\n",
       "      <td>1610612753</td>\n",
       "      <td>ORL</td>\n",
       "      <td>Orlando Magic</td>\n",
       "      <td>ORL vs. TOR</td>\n",
       "      <td>W</td>\n",
       "      <td>...</td>\n",
       "      <td>16.0</td>\n",
       "      <td>38.0</td>\n",
       "      <td>17.0</td>\n",
       "      <td>13.0</td>\n",
       "      <td>3.0</td>\n",
       "      <td>21.0</td>\n",
       "      <td>29.0</td>\n",
       "      <td>85</td>\n",
       "      <td>-29</td>\n",
       "      <td>0</td>\n",
       "    </tr>\n",
       "    <tr>\n",
       "      <th>36372</th>\n",
       "      <td>20100007</td>\n",
       "      <td>2001-10-30 00:00:00</td>\n",
       "      <td>9500.0</td>\n",
       "      <td>2:41</td>\n",
       "      <td>22001</td>\n",
       "      <td>1610612745</td>\n",
       "      <td>HOU</td>\n",
       "      <td>Houston Rockets</td>\n",
       "      <td>HOU vs. ATL</td>\n",
       "      <td>W</td>\n",
       "      <td>...</td>\n",
       "      <td>37.0</td>\n",
       "      <td>47.0</td>\n",
       "      <td>15.0</td>\n",
       "      <td>10.0</td>\n",
       "      <td>8.0</td>\n",
       "      <td>17.0</td>\n",
       "      <td>26.0</td>\n",
       "      <td>84</td>\n",
       "      <td>-5</td>\n",
       "      <td>0</td>\n",
       "    </tr>\n",
       "    <tr>\n",
       "      <th>36373</th>\n",
       "      <td>20100008</td>\n",
       "      <td>2001-10-30 00:00:00</td>\n",
       "      <td>16803.0</td>\n",
       "      <td>2:13</td>\n",
       "      <td>22001</td>\n",
       "      <td>1610612759</td>\n",
       "      <td>SAS</td>\n",
       "      <td>San Antonio Spurs</td>\n",
       "      <td>SAS vs. LAC</td>\n",
       "      <td>W</td>\n",
       "      <td>...</td>\n",
       "      <td>31.0</td>\n",
       "      <td>42.0</td>\n",
       "      <td>9.0</td>\n",
       "      <td>11.0</td>\n",
       "      <td>3.0</td>\n",
       "      <td>18.0</td>\n",
       "      <td>31.0</td>\n",
       "      <td>98</td>\n",
       "      <td>-11</td>\n",
       "      <td>0</td>\n",
       "    </tr>\n",
       "  </tbody>\n",
       "</table>\n",
       "<p>5 rows × 56 columns</p>\n",
       "</div>"
      ],
      "text/plain": [
       "        game_id            game_date  attendance game_time  season_id  \\\n",
       "36369  20100005  2001-10-30 00:00:00     18697.0      2:08      22001   \n",
       "36370  20100012  2001-10-30 00:00:00     18997.0      2:30      22001   \n",
       "36371  20100004  2001-10-30 00:00:00     16088.0      2:26      22001   \n",
       "36372  20100007  2001-10-30 00:00:00      9500.0      2:41      22001   \n",
       "36373  20100008  2001-10-30 00:00:00     16803.0      2:13      22001   \n",
       "\n",
       "       team_id_home team_abbreviation_home          team_name_home  \\\n",
       "36369    1610612750                    MIN  Minnesota Timberwolves   \n",
       "36370    1610612747                    LAL      Los Angeles Lakers   \n",
       "36371    1610612753                    ORL           Orlando Magic   \n",
       "36372    1610612745                    HOU         Houston Rockets   \n",
       "36373    1610612759                    SAS       San Antonio Spurs   \n",
       "\n",
       "      matchup_home wl_home  ...  dreb_away  reb_away  ast_away  stl_away  \\\n",
       "36369  MIN vs. PHI       W  ...       26.0      41.0      16.0       4.0   \n",
       "36370  LAL vs. POR       W  ...       37.0      42.0      17.0      10.0   \n",
       "36371  ORL vs. TOR       W  ...       16.0      38.0      17.0      13.0   \n",
       "36372  HOU vs. ATL       W  ...       37.0      47.0      15.0      10.0   \n",
       "36373  SAS vs. LAC       W  ...       31.0      42.0       9.0      11.0   \n",
       "\n",
       "       blk_away  tov_away  pf_away  pts_away  plus_minus_away  \\\n",
       "36369       6.0      21.0     20.0        74               -9   \n",
       "36370       7.0      15.0     28.0        87              -11   \n",
       "36371       3.0      21.0     29.0        85              -29   \n",
       "36372       8.0      17.0     26.0        84               -5   \n",
       "36373       3.0      18.0     31.0        98              -11   \n",
       "\n",
       "       video_available_away  \n",
       "36369                     0  \n",
       "36370                     0  \n",
       "36371                     0  \n",
       "36372                     0  \n",
       "36373                     0  \n",
       "\n",
       "[5 rows x 56 columns]"
      ]
     },
     "execution_count": 5,
     "metadata": {},
     "output_type": "execute_result"
    }
   ],
   "source": [
    "game_merge_df.head()"
   ]
  },
  {
   "cell_type": "code",
   "execution_count": 6,
   "id": "7b90a714",
   "metadata": {},
   "outputs": [],
   "source": [
    "home_wins = game_merge_df[game_merge_df['wl_home'] == 'W'].shape[0]\n",
    "home_losses = game_merge_df[game_merge_df['wl_home'] == 'L'].shape[0]\n",
    "\n",
    "away_wins = game_merge_df[game_merge_df['wl_away'] == 'W'].shape[0]\n",
    "away_losses = game_merge_df[game_merge_df['wl_away'] == 'L'].shape[0]"
   ]
  },
  {
   "cell_type": "code",
   "execution_count": 12,
   "id": "15d5df37",
   "metadata": {},
   "outputs": [
    {
     "data": {
      "image/png": "[encoded data removed]",
      "text/plain": [
       "<Figure size 432x288 with 1 Axes>"
      ]
     },
     "metadata": {},
     "output_type": "display_data"
    }
   ],
   "source": [
    "# Pie chart data\n",
    "labels = ['Home Wins', 'Home Losses', 'Away Wins', 'Away Losses']\n",
    "sizes = [home_wins, home_losses, away_wins, away_losses]\n",
    "colors = ['#FF6347', '#1E90FF', '#32CD32', '#FFD700']\n",
    "\n",
    "# Plot pie chart\n",
    "fig, ax = plt.subplots()\n",
    "ax.pie(sizes, labels=labels, colors=colors, autopct='%1.1f%%', startangle=90)\n",
    "\n",
    "# Equal aspect ratio ensures that pie is drawn as a circle\n",
    "ax.axis('equal')\n",
    "\n",
    "# Display the pie chart\n",
    "plt.show()"
   ]
  },
  {
   "cell_type": "code",
   "execution_count": 15,
   "id": "4f9131f5",
   "metadata": {},
   "outputs": [],
   "source": [
    "season_group = game_merge_df.groupby('season_id')\n",
    "win_rate_per_season = season_group['wl_home'].apply(lambda x: (x == 'W').sum() / x.count())"
   ]
  },
  {
   "cell_type": "code",
   "execution_count": 17,
   "id": "f0ecbc17",
   "metadata": {},
   "outputs": [
    {
     "data": {
      "image/png": "[encoded data removed]",
      "text/plain": [
       "<Figure size 432x288 with 1 Axes>"
      ]
     },
     "metadata": {
      "needs_background": "light"
     },
     "output_type": "display_data"
    }
   ],
   "source": [
    "fig, ax = plt.subplots()\n",
    "\n",
    "# Plot a line chart\n",
    "ax.plot(win_rate_per_season.index, win_rate_per_season, marker='o', linestyle='-', label='Home Win Rate')\n",
    "\n",
    "# Plot an area chart (uncomment the following line to use an area chart)\n",
    "# ax.fill_between(win_rate_per_season.index, win_rate_per_season, color='skyblue', alpha=0.5, label='Home Win Rate')\n",
    "\n",
    "# Customize the chart\n",
    "ax.set_xlabel('Season')\n",
    "ax.set_ylabel('Home Win Rate')\n",
    "ax.set_title('Home Win Rate by Season')\n",
    "ax.legend()\n",
    "\n",
    "# Display the chart\n",
    "plt.show()"
   ]
  },
  {
   "cell_type": "code",
   "execution_count": null,
   "id": "16eaba46",
   "metadata": {},
   "outputs": [],
   "source": []
  }
 ],
 "metadata": {
  "kernelspec": {
   "display_name": "Python 3 (ipykernel)",
   "language": "python",
   "name": "python3"
  },
  "language_info": {
   "codemirror_mode": {
    "name": "ipython",
    "version": 3
   },
   "file_extension": ".py",
   "mimetype": "text/x-python",
   "name": "python",
   "nbconvert_exporter": "python",
   "pygments_lexer": "ipython3",
   "version": "3.9.7"
  }
 },
 "nbformat": 4,
 "nbformat_minor": 5
}
