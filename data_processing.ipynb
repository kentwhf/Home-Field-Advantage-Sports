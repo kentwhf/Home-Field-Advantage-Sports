{
 "cells": [
  {
   "cell_type": "code",
   "execution_count": 73,
   "id": "289ca418",
   "metadata": {},
   "outputs": [],
   "source": [
    "import pandas as pd"
   ]
  },
  {
   "cell_type": "code",
   "execution_count": 74,
   "id": "46d79e27",
   "metadata": {
    "scrolled": false
   },
   "outputs": [],
   "source": [
    "game = pd.read_csv('game.csv')\n",
    "game_info = pd.read_csv('game_info.csv')\n",
    "team = pd.read_csv('team.csv')\n",
    "team_details = pd.read_csv('team_details.csv')"
   ]
  },
  {
   "cell_type": "code",
   "execution_count": 75,
   "id": "23ef8d66",
   "metadata": {},
   "outputs": [],
   "source": [
    "merged_df = pd.merge(game, game_info, on='game_id')"
   ]
  },
  {
   "cell_type": "code",
   "execution_count": 76,
   "id": "4442d66a",
   "metadata": {},
   "outputs": [],
   "source": [
    "# TODO\n",
    "\n",
    "# Group the dataframe by 'team_id'\n",
    "grouped = merged_df.groupby(['team_id_home'])\n",
    "merged_df['game_date_x'] = pd.to_datetime(merged_df['game_date_x'])\n",
    "\n",
    "# Calculate the time differences in days for the 'game_date_x' column\n",
    "time_diff = grouped['game_date_x'].diff().dt.days\n",
    "merged_df['days_off_home'] = time_diff.fillna(0)\n",
    "\n",
    "# Group the dataframe by 'team_id'\n",
    "grouped = merged_df.groupby(['team_id_away'])\n",
    "merged_df['game_date_x'] = pd.to_datetime(merged_df['game_date_x'])\n",
    "\n",
    "# Calculate the time differences in days for the 'game_date_x' column\n",
    "time_diff = grouped['game_date_x'].diff().dt.days\n",
    "merged_df['days_off_away'] = time_diff.fillna(0)"
   ]
  },
  {
   "cell_type": "code",
   "execution_count": 77,
   "id": "22e8d986",
   "metadata": {},
   "outputs": [
    {
     "data": {
      "text/plain": [
       "5909"
      ]
     },
     "execution_count": 77,
     "metadata": {},
     "output_type": "execute_result"
    }
   ],
   "source": [
    "merged_df['attendance'].isna().sum() "
   ]
  },
  {
   "cell_type": "code",
   "execution_count": 78,
   "id": "316069ed",
   "metadata": {
    "scrolled": false
   },
   "outputs": [],
   "source": [
    "# TODO\n",
    "merged_df = pd.merge(merged_df, team_details, left_on='team_id_home', right_on='team_id')\n",
    "merged_df['attend_density'] = merged_df['attendance'] / merged_df['arenacapacity']"
   ]
  },
  {
   "cell_type": "code",
   "execution_count": 79,
   "id": "66d141b0",
   "metadata": {},
   "outputs": [
    {
     "data": {
      "text/plain": [
       "0             NaN\n",
       "1             NaN\n",
       "2             NaN\n",
       "3             NaN\n",
       "4             NaN\n",
       "           ...   \n",
       "59737    0.921702\n",
       "59738    0.901467\n",
       "59739    0.982126\n",
       "59740    0.989601\n",
       "59741    0.937328\n",
       "Name: attend_density, Length: 59742, dtype: float64"
      ]
     },
     "execution_count": 79,
     "metadata": {},
     "output_type": "execute_result"
    }
   ],
   "source": [
    "merged_df['attend_density']"
   ]
  }
 ],
 "metadata": {
  "kernelspec": {
   "display_name": "Python 3 (ipykernel)",
   "language": "python",
   "name": "python3"
  },
  "language_info": {
   "codemirror_mode": {
    "name": "ipython",
    "version": 3
   },
   "file_extension": ".py",
   "mimetype": "text/x-python",
   "name": "python",
   "nbconvert_exporter": "python",
   "pygments_lexer": "ipython3",
   "version": "3.11.2"
  }
 },
 "nbformat": 4,
 "nbformat_minor": 5
}
